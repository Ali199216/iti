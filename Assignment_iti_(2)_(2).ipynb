{
  "cells": [
    {
      "cell_type": "markdown",
      "metadata": {
        "id": "view-in-github",
        "colab_type": "text"
      },
      "source": [
        "<a href=\"https://colab.research.google.com/github/Ali199216/iti/blob/main/Assignment_iti_(2)_(2).ipynb\" target=\"_parent\"><img src=\"https://colab.research.google.com/assets/colab-badge.svg\" alt=\"Open In Colab\"/></a>"
      ]
    },
    {
      "cell_type": "code",
      "execution_count": null,
      "metadata": {
        "colab": {
          "base_uri": "https://localhost:8080/"
        },
        "id": "u9PsFdqymoB8",
        "outputId": "666472bb-f9c9-48e4-dcc3-8c7cb297e40e"
      },
      "outputs": [
        {
          "name": "stdout",
          "output_type": "stream",
          "text": [
            "Hello World from Ali\n"
          ]
        }
      ],
      "source": [
        "print(\"Hello World from Ali\")"
      ]
    },
    {
      "cell_type": "code",
      "execution_count": null,
      "metadata": {
        "id": "NaxYPx9SxiBq",
        "outputId": "b086f4c9-e73d-4aa0-bf19-a738baed1c53"
      },
      "outputs": [
        {
          "name": "stdout",
          "output_type": "stream",
          "text": [
            "Hello World from Abdelrahman Samir\n"
          ]
        }
      ],
      "source": [
        "print(\"Hello World from Abdelrahman Samir\")"
      ]
    },
    {
      "cell_type": "code",
      "execution_count": null,
      "metadata": {
        "id": "d8cIVOR2xiBr",
        "outputId": "a27a5819-63f2-4ca6-bb17-d524a86e01e2",
        "colab": {
          "base_uri": "https://localhost:8080/"
        }
      },
      "outputs": [
        {
          "output_type": "stream",
          "name": "stdout",
          "text": [
            "Hello World from Taqwa\n"
          ]
        }
      ],
      "source": [
        "print (\"Hello World from Taqwa\")"
      ]
    },
    {
      "cell_type": "code",
      "source": [
        "print (\"Hello World from samar\")"
      ],
      "metadata": {
        "id": "7HmxLxcZUbgP",
        "outputId": "278bf04b-b83d-4a78-b692-bb0d60f06a9f",
        "colab": {
          "base_uri": "https://localhost:8080/"
        }
      },
      "execution_count": null,
      "outputs": [
        {
          "output_type": "stream",
          "name": "stdout",
          "text": [
            "Hello World from samar\n"
          ]
        }
      ]
    },
    {
      "cell_type": "code",
      "source": [
        "print (\"Hello World from nada\")"
      ],
      "metadata": {
        "colab": {
          "base_uri": "https://localhost:8080/"
        },
        "id": "GXwnLGmwg8nS",
        "outputId": "620dcaf2-6a48-4e46-bb5d-392859cde510"
      },
      "execution_count": 2,
      "outputs": [
        {
          "output_type": "stream",
          "name": "stdout",
          "text": [
            "Hello World from nada\n"
          ]
        }
      ]
    }
  ],
  "metadata": {
    "colab": {
      "provenance": [],
      "include_colab_link": true
    },
    "kernelspec": {
      "display_name": "Python 3",
      "name": "python3"
    },
    "language_info": {
      "codemirror_mode": {
        "name": "ipython",
        "version": 3
      },
      "file_extension": ".py",
      "mimetype": "text/x-python",
      "name": "python",
      "nbconvert_exporter": "python",
      "pygments_lexer": "ipython3",
      "version": "3.9.13"
    }
  },
  "nbformat": 4,
  "nbformat_minor": 0
}